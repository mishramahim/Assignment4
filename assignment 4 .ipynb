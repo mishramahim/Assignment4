{
 "cells": [
  {
   "cell_type": "code",
   "execution_count": 29,
   "metadata": {},
   "outputs": [],
   "source": [
    "# python program for triangle \n",
    "\n",
    "def area_triangle():\n",
    "    a=int(input(\"Input lenght of side a : \"))\n",
    "    b=int(input(\"Input lenght of side b : \"))\n",
    "    c=int(input(\"Input lenght of side c : \"))\n",
    "    s = (a+b+c)\n",
    "    area = (s*(s-a)*(s-b)*(s-c))**0.5\n",
    "    print(\"Area of tringle\\n\",round(area,2))\n"
   ]
  },
  {
   "cell_type": "code",
   "execution_count": 30,
   "metadata": {},
   "outputs": [
    {
     "name": "stdout",
     "output_type": "stream",
     "text": [
      "Input lenght of side a : 2\n",
      "Input lenght of side b : 3\n",
      "Input lenght of side c : 4\n",
      "Area of tringle\n",
      " 43.47\n"
     ]
    }
   ],
   "source": [
    "area_triangle()"
   ]
  },
  {
   "cell_type": "code",
   "execution_count": 48,
   "metadata": {},
   "outputs": [],
   "source": [
    "# filter lond wor function filter_long_words()\n",
    "\n",
    "list = [\"Eurpoe\",\"India\",\"England\",\"California\",\"West Bengal\",\"Germany\"]\n",
    "\n",
    "def filter_long_words(list):\n",
    "    a=[]\n",
    "    length=int(input(\"Input a intiger : \"))\n",
    "    for i in list:\n",
    "        if len(i)<length:\n",
    "            a.append(i)\n",
    "    print(a)"
   ]
  },
  {
   "cell_type": "code",
   "execution_count": 49,
   "metadata": {},
   "outputs": [
    {
     "name": "stdout",
     "output_type": "stream",
     "text": [
      "Input a intiger : 8\n",
      "['Eurpoe', 'India', 'England', 'Germany']\n"
     ]
    }
   ],
   "source": [
    "filter_long_words(list)\n"
   ]
  },
  {
   "cell_type": "code",
   "execution_count": 51,
   "metadata": {},
   "outputs": [],
   "source": [
    "# creating list of lenght of words\n",
    "\n",
    "list = [\"Eurpoe\",\"India\",\"England\",\"California\",\"West Bengal\",\"Germany\"]\n",
    "\n",
    "def count_list(list):\n",
    "    b=[]\n",
    "    for i in list:\n",
    "        b.append(len(i))\n",
    "    print(b)"
   ]
  },
  {
   "cell_type": "code",
   "execution_count": 52,
   "metadata": {},
   "outputs": [
    {
     "name": "stdout",
     "output_type": "stream",
     "text": [
      "[6, 5, 7, 10, 11, 7]\n"
     ]
    }
   ],
   "source": [
    "count_list(list)"
   ]
  },
  {
   "cell_type": "code",
   "execution_count": 65,
   "metadata": {},
   "outputs": [],
   "source": [
    "# Vowel Confirmation \n",
    "\n",
    "def vowel_finder():\n",
    "    vowels = str(input(\"Enter sting of length 1 :\"))\n",
    "    if vowels.lower() in [\"a\",'e',\"i\",\"o\",\"u\"]:\n",
    "        print(\"Vowel\")\n",
    "    else:\n",
    "        print(\"consonent\")"
   ]
  },
  {
   "cell_type": "code",
   "execution_count": 66,
   "metadata": {},
   "outputs": [
    {
     "name": "stdout",
     "output_type": "stream",
     "text": [
      "Enter sting of length 1 :E\n",
      "Vowel\n"
     ]
    }
   ],
   "source": [
    "vowel_finder()"
   ]
  },
  {
   "cell_type": "code",
   "execution_count": 64,
   "metadata": {},
   "outputs": [
    {
     "ename": "NameError",
     "evalue": "name 'string' is not defined",
     "output_type": "error",
     "traceback": [
      "\u001b[1;31m---------------------------------------------------------------------------\u001b[0m",
      "\u001b[1;31mNameError\u001b[0m                                 Traceback (most recent call last)",
      "\u001b[1;32m<ipython-input-64-a0d24a898338>\u001b[0m in \u001b[0;36m<module>\u001b[1;34m\u001b[0m\n\u001b[0;32m      1\u001b[0m \u001b[0mfig\u001b[0m \u001b[1;33m=\u001b[0m \u001b[1;34m'Name'\u001b[0m\u001b[1;33m\u001b[0m\u001b[1;33m\u001b[0m\u001b[0m\n\u001b[1;32m----> 2\u001b[1;33m \u001b[0mstring\u001b[0m\u001b[1;33m.\u001b[0m\u001b[0mlower\u001b[0m\u001b[1;33m(\u001b[0m\u001b[0mfig\u001b[0m\u001b[1;33m)\u001b[0m\u001b[1;33m\u001b[0m\u001b[1;33m\u001b[0m\u001b[0m\n\u001b[0m",
      "\u001b[1;31mNameError\u001b[0m: name 'string' is not defined"
     ]
    }
   ],
   "source": [
    "fig = 'Name'\n",
    "strin(fig)"
   ]
  },
  {
   "cell_type": "code",
   "execution_count": null,
   "metadata": {},
   "outputs": [],
   "source": []
  }
 ],
 "metadata": {
  "kernelspec": {
   "display_name": "Python 3",
   "language": "python",
   "name": "python3"
  },
  "language_info": {
   "codemirror_mode": {
    "name": "ipython",
    "version": 3
   },
   "file_extension": ".py",
   "mimetype": "text/x-python",
   "name": "python",
   "nbconvert_exporter": "python",
   "pygments_lexer": "ipython3",
   "version": "3.7.6"
  }
 },
 "nbformat": 4,
 "nbformat_minor": 2
}
